{
  "nbformat": 4,
  "nbformat_minor": 0,
  "metadata": {
    "colab": {
      "name": "creative_names_cogsci.ipynb",
      "provenance": [],
      "authorship_tag": "ABX9TyNeTbhBmz3MYJ71mH80DVRC",
      "include_colab_link": true
    },
    "kernelspec": {
      "name": "python3",
      "display_name": "Python 3"
    },
    "language_info": {
      "name": "python"
    }
  },
  "cells": [
    {
      "cell_type": "markdown",
      "metadata": {
        "id": "view-in-github",
        "colab_type": "text"
      },
      "source": [
        "<a href=\"https://colab.research.google.com/github/scskalicky/creative_naming_lsa/blob/main/creative_names_cogsci.ipynb\" target=\"_parent\"><img src=\"https://colab.research.google.com/assets/colab-badge.svg\" alt=\"Open In Colab\"/></a>"
      ]
    },
    {
      "cell_type": "code",
      "source": [
        "from google.colab import drive\n",
        "drive.mount('/content/drive')"
      ],
      "metadata": {
        "colab": {
          "base_uri": "https://localhost:8080/"
        },
        "id": "QyuRZplwubPP",
        "outputId": "6e54a027-0653-4e1f-c43b-61b5b673e2fc"
      },
      "execution_count": 1,
      "outputs": [
        {
          "output_type": "stream",
          "name": "stdout",
          "text": [
            "Mounted at /content/drive\n"
          ]
        }
      ]
    },
    {
      "cell_type": "code",
      "source": [
        "# manually download the most up-to-date English model (lg)\n",
        "# \n",
        "# MUST RESTART RUNTIME AFTER DOING THIS.\n",
        "# will also update spacy to 3.x\n",
        "#!pip install https://github.com/explosion/spacy-models/releases/download/en_core_web_lg-3.2.0/en_core_web_lg-3.2.0.tar.gz"
      ],
      "metadata": {
        "id": "yL2vZw09g51N"
      },
      "execution_count": null,
      "outputs": []
    },
    {
      "cell_type": "code",
      "execution_count": 1,
      "metadata": {
        "id": "ZlJQKMf1uSHD"
      },
      "outputs": [],
      "source": [
        "import pandas as pd\n",
        "import spacy\n",
        "nlp = spacy.load('en_core_web_lg')"
      ]
    },
    {
      "cell_type": "code",
      "source": [
        "# real shit here\n",
        "\n",
        "# https://github.com/MartinoMensio/spacy-universal-sentence-encoder\n",
        "\n",
        "# https://stackoverflow.com/questions/52113939/spacy-strange-similarity-between-two-sentences\n",
        "\n",
        "!pip install git+https://github.com/MartinoMensio/spacy-universal-sentence-encoder.git\n"
      ],
      "metadata": {
        "id": "uA4hVrYC1NdD"
      },
      "execution_count": null,
      "outputs": []
    },
    {
      "cell_type": "code",
      "source": [
        "!pip install https://github.com/MartinoMensio/spacy-universal-sentence-encoder/releases/download/v0.4.3/xx_use_lg-0.4.3.tar.gz#xx_use_lg-0.4.3"
      ],
      "metadata": {
        "id": "jYVZTT0n1XyJ"
      },
      "execution_count": null,
      "outputs": []
    },
    {
      "cell_type": "code",
      "source": [
        "import spacy_universal_sentence_encoder\n",
        "nlp = spacy_universal_sentence_encoder.load_model('en_use_lg')"
      ],
      "metadata": {
        "id": "Eh8jebDx1krf"
      },
      "execution_count": null,
      "outputs": []
    },
    {
      "cell_type": "code",
      "source": [
        "import spacy\n",
        "nlp = spacy.load('en_core_web_lg')\n",
        "nlp.add_pipe('universal_sentence_encoder')"
      ],
      "metadata": {
        "colab": {
          "base_uri": "https://localhost:8080/"
        },
        "id": "oj-JR7H01uOY",
        "outputId": "b7f85adb-35fc-4a83-8abc-f1e9ab7ebaf1"
      },
      "execution_count": 69,
      "outputs": [
        {
          "output_type": "execute_result",
          "data": {
            "text/plain": [
              "<spacy_universal_sentence_encoder.language.UniversalSentenceEncoder at 0x7f3d88f94fd0>"
            ]
          },
          "metadata": {},
          "execution_count": 69
        }
      ]
    },
    {
      "cell_type": "code",
      "source": [
        "a = 'air ball'\n",
        "b = 'going to the moon bag'\n",
        "\n",
        "nlp(a).similarity(nlp(b))"
      ],
      "metadata": {
        "colab": {
          "base_uri": "https://localhost:8080/"
        },
        "id": "P2LbYpV_gRcs",
        "outputId": "27088c1e-9feb-4c88-8162-9584d71e19fd"
      },
      "execution_count": 71,
      "outputs": [
        {
          "output_type": "execute_result",
          "data": {
            "text/plain": [
              "0.26939963742482953"
            ]
          },
          "metadata": {},
          "execution_count": 71
        }
      ]
    },
    {
      "cell_type": "code",
      "source": [
        "dat = pd.read_csv('/content/drive/MyDrive/creative_naming/creative_naming_raw_answers.csv')\n",
        "dat = dat[dat['on.task'] == 1]\n",
        "dat.columns"
      ],
      "metadata": {
        "id": "stox22j2uThp",
        "colab": {
          "base_uri": "https://localhost:8080/"
        },
        "outputId": "f47466a3-7831-4adb-e74a-ecd3e1b84e62"
      },
      "execution_count": 78,
      "outputs": [
        {
          "output_type": "execute_result",
          "data": {
            "text/plain": [
              "Index(['subject', 'group', 'item', 'original_answer', 'cleaned_answer',\n",
              "       'on.task'],\n",
              "      dtype='object')"
            ]
          },
          "metadata": {},
          "execution_count": 78
        }
      ]
    },
    {
      "cell_type": "code",
      "source": [
        "nes_dat = dat[dat['group'] == 'NES']\n",
        "rom_dat = dat[dat['group'] == 'ROM']"
      ],
      "metadata": {
        "colab": {
          "base_uri": "https://localhost:8080/"
        },
        "id": "0eWn0QLIvAZ1",
        "outputId": "50d488a8-e7e5-4181-adba-16fc903a18ed"
      },
      "execution_count": 94,
      "outputs": [
        {
          "output_type": "execute_result",
          "data": {
            "text/plain": [
              "0      balloon\n",
              "1          box\n",
              "2       carrot\n",
              "3         fork\n",
              "4       shovel\n",
              "        ...   \n",
              "589        box\n",
              "590     carrot\n",
              "591      couch\n",
              "592    glasses\n",
              "593     shovel\n",
              "Name: item, Length: 577, dtype: object"
            ]
          },
          "metadata": {},
          "execution_count": 94
        }
      ]
    },
    {
      "cell_type": "code",
      "source": [
        "nes_answers = nes_dat[['cleaned_answer', 'item']]\n",
        "rom_answers = rom_dat[['cleaned_answer', 'item']]"
      ],
      "metadata": {
        "id": "Iu_UrvzKi-bf"
      },
      "execution_count": 171,
      "outputs": []
    },
    {
      "cell_type": "code",
      "source": [
        "items = list(dat['item'].unique())\n",
        "items"
      ],
      "metadata": {
        "colab": {
          "base_uri": "https://localhost:8080/"
        },
        "id": "PZU8NHmB3fE3",
        "outputId": "229a942e-1a46-4b04-9589-cb8339aa7f24"
      },
      "execution_count": 86,
      "outputs": [
        {
          "output_type": "execute_result",
          "data": {
            "text/plain": [
              "['balloon',\n",
              " 'box',\n",
              " 'carrot',\n",
              " 'fork',\n",
              " 'shovel',\n",
              " 'toilet',\n",
              " 'couch',\n",
              " 'glasses',\n",
              " 'wallet']"
            ]
          },
          "metadata": {},
          "execution_count": 86
        }
      ]
    },
    {
      "cell_type": "code",
      "source": [
        "nes_answers[nes_answers['item'] == 'balloon']['cleaned_answer'].unique()"
      ],
      "metadata": {
        "colab": {
          "base_uri": "https://localhost:8080/"
        },
        "id": "61T3isNkKTwg",
        "outputId": "306d9558-1edd-49b8-f425-6ae827084a71"
      },
      "execution_count": 177,
      "outputs": [
        {
          "output_type": "execute_result",
          "data": {
            "text/plain": [
              "array(['air ball', 'rubber helium holder', 'poke popper', 'party bubble',\n",
              "       'air holder', 'party floater', 'helium globe', 'air toy',\n",
              "       'party popper', 'toy sac air holder', 'floating ball',\n",
              "       'gas capsule', 'pop and scare', 'air bomb', 'rubber floater',\n",
              "       'air floater', 'floating object', 'big plastic colored object',\n",
              "       'loud popper', 'floating sphere', 'air pack',\n",
              "       'green air container', 'floating ball of air', 'air container',\n",
              "       'poppable air container', 'air filler', 'green bubble',\n",
              "       'green rubber float', 'colorful air holder', 'blown air',\n",
              "       'inflated decoration', 'blimp bird', 'inflatable rubber',\n",
              "       'air bag', 'inflated elation', 'decorative rubber float',\n",
              "       'air filled rubber', 'inflatable bauble', 'chocolate shape maker',\n",
              "       'breath capturer', 'green helium voice changer', 'rubber blow up',\n",
              "       'floating air', 'bag of air', 'poppable', 'air trapper',\n",
              "       'elastic air holder'], dtype=object)"
            ]
          },
          "metadata": {},
          "execution_count": 177
        }
      ]
    },
    {
      "cell_type": "code",
      "source": [
        "import time\n",
        "from collections import defaultdict\n",
        "\n",
        "def sim_dict(answers, items):\n",
        "  \n",
        "  output_dict = defaultdict(dict)\n",
        "  for item in items:\n",
        "    item_answers = list(answers[answers['item'] == item]['cleaned_answer'])\n",
        "    print(f'computing similarity for items in {item}')\n",
        "    #print(item_answers)\n",
        "    for index, answer in enumerate(item_answers):\n",
        "      answer_sims_dict = dict()\n",
        "      print(f'computing similarity for {answer}...')\n",
        "      print(f'{index+1} of {len(item_answers)}')\n",
        "      answer_sims = [(x, nlp(answer).similarity(nlp(x))) for x in item_answers]\n",
        "      output_dict[item][answer] = dict(answer_sims)\n",
        "      #print(len(output_dict[item].keys()))\n",
        "\n",
        "  return output_dict"
      ],
      "metadata": {
        "id": "iZLvAYW0jv21"
      },
      "execution_count": 186,
      "outputs": []
    },
    {
      "cell_type": "code",
      "source": [
        "nes_sims = sim_dict(nes_answers, items)"
      ],
      "metadata": {
        "id": "sQ2rGw026z0z"
      },
      "execution_count": null,
      "outputs": []
    },
    {
      "cell_type": "code",
      "source": [
        "len(list(nes_sims['balloon'].keys()))"
      ],
      "metadata": {
        "colab": {
          "base_uri": "https://localhost:8080/"
        },
        "id": "wRN9wdzoLk-l",
        "outputId": "2d80ae95-b2be-4a19-86c2-f758b09d56d9"
      },
      "execution_count": 191,
      "outputs": [
        {
          "output_type": "execute_result",
          "data": {
            "text/plain": [
              "47"
            ]
          },
          "metadata": {},
          "execution_count": 191
        }
      ]
    },
    {
      "cell_type": "code",
      "source": [
        "import pickle\n",
        "afile = open(r'/content/drive/MyDrive/creative_naming/nes_sims.pkl', 'wb')\n",
        "pickle.dump(nes_sims, afile)\n",
        "afile.close()"
      ],
      "metadata": {
        "id": "p9F0PWvaPuCJ"
      },
      "execution_count": 194,
      "outputs": []
    },
    {
      "cell_type": "code",
      "source": [
        "rom_sims = sim_dict(rom_answers,items)"
      ],
      "metadata": {
        "id": "UcAhwmpEQGO-"
      },
      "execution_count": null,
      "outputs": []
    },
    {
      "cell_type": "code",
      "source": [
        "rom_sims['balloon']"
      ],
      "metadata": {
        "id": "kCAFBEGWTJvN"
      },
      "execution_count": null,
      "outputs": []
    },
    {
      "cell_type": "code",
      "source": [
        "bfile = open(r'/content/drive/MyDrive/creative_naming/rom_sims.pkl', 'wb')\n",
        "pickle.dump(rom_sims, bfile)\n",
        "bfile.close()"
      ],
      "metadata": {
        "id": "FXmeWLx0TB1W"
      },
      "execution_count": 196,
      "outputs": []
    },
    {
      "cell_type": "markdown",
      "source": [
        "The goal of this notebook is to see whether or not we can use wordnet to determine the relative heirarchy of categories in the participants answers.\n",
        "\n",
        "\n",
        "What are the common linguistic properties of high frequency answers?\n",
        "\n",
        "- repeated answers\n",
        "- similar answers\n",
        "- unique answers\n",
        "\n",
        "What does this mean for creativity? \n",
        "\n",
        "\n",
        "So we need a way to group similar answers based on\n",
        "\n",
        "- the words used\n",
        "  - ideally we would want to categorize things\n",
        "- their semantic similarity to one another\n",
        "- their syntax\n",
        "- orthographic overlap? \n"
      ],
      "metadata": {
        "id": "Co1OAYHwwLDM"
      }
    }
  ]
}