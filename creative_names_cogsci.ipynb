{
  "nbformat": 4,
  "nbformat_minor": 0,
  "metadata": {
    "colab": {
      "name": "creative_names_cogsci.ipynb",
      "provenance": [],
      "authorship_tag": "ABX9TyNKmAJukGrSXDTPu0NZMreB",
      "include_colab_link": true
    },
    "kernelspec": {
      "name": "python3",
      "display_name": "Python 3"
    },
    "language_info": {
      "name": "python"
    }
  },
  "cells": [
    {
      "cell_type": "markdown",
      "metadata": {
        "id": "view-in-github",
        "colab_type": "text"
      },
      "source": [
        "<a href=\"https://colab.research.google.com/github/scskalicky/creative_naming_lsa/blob/main/creative_names_cogsci.ipynb\" target=\"_parent\"><img src=\"https://colab.research.google.com/assets/colab-badge.svg\" alt=\"Open In Colab\"/></a>"
      ]
    },
    {
      "cell_type": "code",
      "source": [
        "from google.colab import drive\n",
        "drive.mount('/content/drive')"
      ],
      "metadata": {
        "colab": {
          "base_uri": "https://localhost:8080/"
        },
        "id": "QyuRZplwubPP",
        "outputId": "22a9ca1d-8383-4b97-a40c-d46237bfd7bc"
      },
      "execution_count": 6,
      "outputs": [
        {
          "output_type": "stream",
          "name": "stdout",
          "text": [
            "Mounted at /content/drive\n"
          ]
        }
      ]
    },
    {
      "cell_type": "code",
      "source": [
        "# Update spaCy to 3.x and manually download 3.2.0 large english model\n",
        "!pip install spacy --upgrade\n",
        "!pip install https://github.com/explosion/spacy-models/releases/download/en_core_web_lg-3.2.0/en_core_web_lg-3.2.0.tar.gz"
      ],
      "metadata": {
        "id": "yL2vZw09g51N"
      },
      "execution_count": null,
      "outputs": []
    },
    {
      "cell_type": "code",
      "source": [
        "import spacy\n",
        "print(spacy.__version__)"
      ],
      "metadata": {
        "id": "CcVxg6o_b41k",
        "outputId": "e310c7af-b600-40d4-d5f4-0a0cc915643e",
        "colab": {
          "base_uri": "https://localhost:8080/"
        }
      },
      "execution_count": 2,
      "outputs": [
        {
          "output_type": "stream",
          "name": "stdout",
          "text": [
            "3.2.1\n"
          ]
        }
      ]
    },
    {
      "cell_type": "code",
      "source": [
        "# The Google Universal Sentence Encoder for spaCy\n",
        "# https://github.com/MartinoMensio/spacy-universal-sentence-encoder\n",
        "# https://stackoverflow.com/questions/52113939/spacy-strange-similarity-between-two-sentences\n",
        "!pip install git+https://github.com/MartinoMensio/spacy-universal-sentence-encoder.git"
      ],
      "metadata": {
        "id": "uA4hVrYC1NdD"
      },
      "execution_count": null,
      "outputs": []
    },
    {
      "cell_type": "code",
      "source": [
        "# Download the large USE model. \n",
        "!pip install https://github.com/MartinoMensio/spacy-universal-sentence-encoder/releases/download/v0.4.3/xx_use_lg-0.4.3.tar.gz#xx_use_lg-0.4.3"
      ],
      "metadata": {
        "id": "jYVZTT0n1XyJ"
      },
      "execution_count": null,
      "outputs": []
    },
    {
      "cell_type": "code",
      "source": [
        "# RESTART THE RUNTIME AFTER PREVIOUS CELL AND BEFORE NEXT CELL"
      ],
      "metadata": {
        "id": "w0hVijQUcJzt"
      },
      "execution_count": null,
      "outputs": []
    },
    {
      "cell_type": "code",
      "source": [
        "# import and initliaze nlp to be the USE model\n",
        "import spacy\n",
        "import spacy_universal_sentence_encoder\n",
        "nlp = spacy_universal_sentence_encoder.load_model('en_use_lg')\n",
        "nlp.add_pipe('universal_sentence_encoder')"
      ],
      "metadata": {
        "id": "Eh8jebDx1krf",
        "outputId": "148fb51b-96ca-4324-fb2e-a6ed34cfdcf3",
        "colab": {
          "base_uri": "https://localhost:8080/"
        }
      },
      "execution_count": 1,
      "outputs": [
        {
          "output_type": "stream",
          "name": "stdout",
          "text": [
            "Downloaded https://tfhub.dev/google/universal-sentence-encoder-large/5, Total size: 577.10MB\n",
            "\n"
          ]
        }
      ]
    },
    {
      "cell_type": "code",
      "source": [
        "a = 'air ball'\n",
        "b = 'going to the moon bag'\n",
        "\n",
        "nlp(a).similarity(nlp(b))\n",
        "\n",
        "# should be: \n",
        "#0.26939963742482953"
      ],
      "metadata": {
        "colab": {
          "base_uri": "https://localhost:8080/"
        },
        "id": "P2LbYpV_gRcs",
        "outputId": "48cc7e7e-fd5c-4e50-debd-3937d2a58b59"
      },
      "execution_count": 4,
      "outputs": [
        {
          "output_type": "execute_result",
          "data": {
            "text/plain": [
              "0.26939963742482953"
            ]
          },
          "metadata": {},
          "execution_count": 4
        }
      ]
    },
    {
      "cell_type": "code",
      "source": [
        "import pandas as pd\n",
        "dat = pd.read_csv('/content/drive/MyDrive/creative_naming/creative_naming_raw_answers.csv')\n",
        "\n",
        "print(len(dat), len(dat[dat['on.task'] == 0]))"
      ],
      "metadata": {
        "id": "stox22j2uThp",
        "colab": {
          "base_uri": "https://localhost:8080/"
        },
        "outputId": "369ab0bb-e157-47c2-c283-7dcf65355c9d"
      },
      "execution_count": 29,
      "outputs": [
        {
          "output_type": "stream",
          "name": "stdout",
          "text": [
            "1296 53\n"
          ]
        }
      ]
    },
    {
      "cell_type": "code",
      "source": [
        "dat = dat[dat['on.task'] == 1]\n",
        "dat.columns\n",
        "len(dat)"
      ],
      "metadata": {
        "id": "amaCPVQNb8RZ",
        "outputId": "9315f1eb-7e2d-4473-b849-fac3a0f8b3db",
        "colab": {
          "base_uri": "https://localhost:8080/"
        }
      },
      "execution_count": 30,
      "outputs": [
        {
          "output_type": "execute_result",
          "data": {
            "text/plain": [
              "1243"
            ]
          },
          "metadata": {},
          "execution_count": 30
        }
      ]
    },
    {
      "cell_type": "code",
      "source": [
        "nes_dat = dat[dat['group'] == 'NES']\n",
        "rom_dat = dat[dat['group'] == 'ROM']"
      ],
      "metadata": {
        "id": "0eWn0QLIvAZ1"
      },
      "execution_count": 9,
      "outputs": []
    },
    {
      "cell_type": "code",
      "source": [
        "nes_answers = nes_dat[['cleaned_answer', 'item']]\n",
        "rom_answers = rom_dat[['cleaned_answer', 'item']]"
      ],
      "metadata": {
        "id": "Iu_UrvzKi-bf"
      },
      "execution_count": 10,
      "outputs": []
    },
    {
      "cell_type": "code",
      "source": [
        "items = list(dat['item'].unique())\n",
        "items"
      ],
      "metadata": {
        "colab": {
          "base_uri": "https://localhost:8080/"
        },
        "id": "PZU8NHmB3fE3",
        "outputId": "6e2acad0-c5c2-43c9-c1c3-05e6ed0dc34b"
      },
      "execution_count": 11,
      "outputs": [
        {
          "output_type": "execute_result",
          "data": {
            "text/plain": [
              "['balloon',\n",
              " 'box',\n",
              " 'carrot',\n",
              " 'fork',\n",
              " 'shovel',\n",
              " 'toilet',\n",
              " 'couch',\n",
              " 'glasses',\n",
              " 'wallet']"
            ]
          },
          "metadata": {},
          "execution_count": 11
        }
      ]
    },
    {
      "cell_type": "code",
      "source": [
        "nes_answers[nes_answers['item'] == 'balloon']['cleaned_answer'].unique()"
      ],
      "metadata": {
        "colab": {
          "base_uri": "https://localhost:8080/"
        },
        "id": "61T3isNkKTwg",
        "outputId": "5b127e8a-7cfe-43af-8a50-1c8e44cdd444"
      },
      "execution_count": 12,
      "outputs": [
        {
          "output_type": "execute_result",
          "data": {
            "text/plain": [
              "array(['air ball', 'rubber helium holder', 'poke popper', 'party bubble',\n",
              "       'air holder', 'party floater', 'helium globe', 'air toy',\n",
              "       'party popper', 'toy sac air holder', 'floating ball',\n",
              "       'gas capsule', 'pop and scare', 'air bomb', 'rubber floater',\n",
              "       'air floater', 'floating object', 'big plastic colored object',\n",
              "       'loud popper', 'floating sphere', 'air pack',\n",
              "       'green air container', 'floating ball of air', 'air container',\n",
              "       'poppable air container', 'air filler', 'green bubble',\n",
              "       'green rubber float', 'colorful air holder', 'blown air',\n",
              "       'inflated decoration', 'blimp bird', 'inflatable rubber',\n",
              "       'air bag', 'inflated elation', 'decorative rubber float',\n",
              "       'air filled rubber', 'inflatable bauble', 'chocolate shape maker',\n",
              "       'breath capturer', 'green helium voice changer', 'rubber blow up',\n",
              "       'floating air', 'bag of air', 'poppable', 'air trapper',\n",
              "       'elastic air holder'], dtype=object)"
            ]
          },
          "metadata": {},
          "execution_count": 12
        }
      ]
    },
    {
      "cell_type": "code",
      "source": [
        "# Create similarity scores \n",
        "import time\n",
        "from collections import defaultdict\n",
        "\n",
        "def sim_dict(answers, items):\n",
        "  \n",
        "  output_dict = defaultdict(dict)\n",
        "  for item in items:\n",
        "    item_answers = list(answers[answers['item'] == item]['cleaned_answer'])\n",
        "    print(f'computing similarity for items in {item}')\n",
        "    #print(item_answers)\n",
        "    for index, answer in enumerate(item_answers):\n",
        "      answer_sims_dict = dict()\n",
        "      print(f'computing similarity for {answer}...')\n",
        "      print(f'{index+1} of {len(item_answers)}')\n",
        "      answer_sims = [(x, nlp(answer).similarity(nlp(x))) for x in item_answers]\n",
        "      output_dict[item][answer] = dict(answer_sims)\n",
        "      #print(len(output_dict[item].keys()))\n",
        "\n",
        "  return output_dict"
      ],
      "metadata": {
        "id": "iZLvAYW0jv21"
      },
      "execution_count": null,
      "outputs": []
    },
    {
      "cell_type": "code",
      "source": [
        "# takes a few minutes to calculate\n",
        "nes_sims = sim_dict(nes_answers, items)"
      ],
      "metadata": {
        "id": "sQ2rGw026z0z"
      },
      "execution_count": null,
      "outputs": []
    },
    {
      "cell_type": "code",
      "source": [
        "len(list(nes_sims['balloon'].keys()))"
      ],
      "metadata": {
        "colab": {
          "base_uri": "https://localhost:8080/"
        },
        "id": "wRN9wdzoLk-l",
        "outputId": "3e24825f-3b22-46bf-b89f-c68042d2f126"
      },
      "execution_count": null,
      "outputs": [
        {
          "output_type": "execute_result",
          "data": {
            "text/plain": [
              "47"
            ]
          },
          "metadata": {},
          "execution_count": 30
        }
      ]
    },
    {
      "cell_type": "code",
      "source": [
        "import pickle\n",
        "afile = open(r'/content/drive/MyDrive/creative_naming/nes_sims.pkl', 'wb')\n",
        "pickle.dump(nes_sims, afile)\n",
        "afile.close()"
      ],
      "metadata": {
        "id": "p9F0PWvaPuCJ"
      },
      "execution_count": null,
      "outputs": []
    },
    {
      "cell_type": "code",
      "source": [
        "rom_sims = sim_dict(rom_answers,items)"
      ],
      "metadata": {
        "id": "UcAhwmpEQGO-"
      },
      "execution_count": null,
      "outputs": []
    },
    {
      "cell_type": "code",
      "source": [
        "rom_sims['balloon']"
      ],
      "metadata": {
        "id": "kCAFBEGWTJvN"
      },
      "execution_count": null,
      "outputs": []
    },
    {
      "cell_type": "code",
      "source": [
        "bfile = open(r'/content/drive/MyDrive/creative_naming/rom_sims.pkl', 'wb')\n",
        "pickle.dump(rom_sims, bfile)\n",
        "bfile.close()"
      ],
      "metadata": {
        "id": "FXmeWLx0TB1W"
      },
      "execution_count": null,
      "outputs": []
    },
    {
      "cell_type": "code",
      "source": [
        "# calculate similarity between answers and the name of the object\n",
        "\n",
        "# the list comprehension is probably 100x faster than the loop;\n",
        "#for index, row in dat.iterrows():\n",
        " # dat.loc[index, 'sim_to_name'] = nlp(dat.loc[index, 'cleaned_answer']).similarity(nlp(dat.loc[index, 'item']))\n",
        "result = [nlp(x).similarity(nlp(y)) for x, y in zip(dat['cleaned_answer'], dat['item'])]\n",
        "dat['sim_to_item'] = result"
      ],
      "metadata": {
        "id": "UrSBzdY5edqR"
      },
      "execution_count": 31,
      "outputs": []
    },
    {
      "cell_type": "code",
      "source": [
        "dat"
      ],
      "metadata": {
        "id": "q3bHKX1MgRx0",
        "outputId": "8be32205-cce3-47ab-e33e-392863259ffa",
        "colab": {
          "base_uri": "https://localhost:8080/",
          "height": 424
        }
      },
      "execution_count": 32,
      "outputs": [
        {
          "output_type": "execute_result",
          "data": {
            "text/html": [
              "\n",
              "  <div id=\"df-71547e1f-6b41-4c97-bc56-2159b5c85e59\">\n",
              "    <div class=\"colab-df-container\">\n",
              "      <div>\n",
              "<style scoped>\n",
              "    .dataframe tbody tr th:only-of-type {\n",
              "        vertical-align: middle;\n",
              "    }\n",
              "\n",
              "    .dataframe tbody tr th {\n",
              "        vertical-align: top;\n",
              "    }\n",
              "\n",
              "    .dataframe thead th {\n",
              "        text-align: right;\n",
              "    }\n",
              "</style>\n",
              "<table border=\"1\" class=\"dataframe\">\n",
              "  <thead>\n",
              "    <tr style=\"text-align: right;\">\n",
              "      <th></th>\n",
              "      <th>subject</th>\n",
              "      <th>group</th>\n",
              "      <th>item</th>\n",
              "      <th>original_answer</th>\n",
              "      <th>cleaned_answer</th>\n",
              "      <th>on.task</th>\n",
              "      <th>sim_to_item</th>\n",
              "    </tr>\n",
              "  </thead>\n",
              "  <tbody>\n",
              "    <tr>\n",
              "      <th>53</th>\n",
              "      <td>49998</td>\n",
              "      <td>NES</td>\n",
              "      <td>balloon</td>\n",
              "      <td>air ball /</td>\n",
              "      <td>air ball</td>\n",
              "      <td>1</td>\n",
              "      <td>0.630809</td>\n",
              "    </tr>\n",
              "    <tr>\n",
              "      <th>54</th>\n",
              "      <td>49998</td>\n",
              "      <td>NES</td>\n",
              "      <td>box</td>\n",
              "      <td>Compressed paper container</td>\n",
              "      <td>compressed paper container</td>\n",
              "      <td>1</td>\n",
              "      <td>0.244441</td>\n",
              "    </tr>\n",
              "    <tr>\n",
              "      <th>55</th>\n",
              "      <td>49998</td>\n",
              "      <td>NES</td>\n",
              "      <td>carrot</td>\n",
              "      <td>orange veggie</td>\n",
              "      <td>orange veggie</td>\n",
              "      <td>1</td>\n",
              "      <td>0.617006</td>\n",
              "    </tr>\n",
              "    <tr>\n",
              "      <th>56</th>\n",
              "      <td>49998</td>\n",
              "      <td>NES</td>\n",
              "      <td>fork</td>\n",
              "      <td>eating tool</td>\n",
              "      <td>eating tool</td>\n",
              "      <td>1</td>\n",
              "      <td>0.414731</td>\n",
              "    </tr>\n",
              "    <tr>\n",
              "      <th>57</th>\n",
              "      <td>49998</td>\n",
              "      <td>NES</td>\n",
              "      <td>shovel</td>\n",
              "      <td>digger</td>\n",
              "      <td>digger</td>\n",
              "      <td>1</td>\n",
              "      <td>0.623323</td>\n",
              "    </tr>\n",
              "    <tr>\n",
              "      <th>...</th>\n",
              "      <td>...</td>\n",
              "      <td>...</td>\n",
              "      <td>...</td>\n",
              "      <td>...</td>\n",
              "      <td>...</td>\n",
              "      <td>...</td>\n",
              "      <td>...</td>\n",
              "    </tr>\n",
              "    <tr>\n",
              "      <th>1291</th>\n",
              "      <td>R_Zres5zjqgT36pEt</td>\n",
              "      <td>ROM</td>\n",
              "      <td>glasses</td>\n",
              "      <td>clarifier</td>\n",
              "      <td>clarifier</td>\n",
              "      <td>1</td>\n",
              "      <td>0.217890</td>\n",
              "    </tr>\n",
              "    <tr>\n",
              "      <th>1292</th>\n",
              "      <td>R_Zres5zjqgT36pEt</td>\n",
              "      <td>ROM</td>\n",
              "      <td>shovel</td>\n",
              "      <td>plant remover</td>\n",
              "      <td>plant remover</td>\n",
              "      <td>1</td>\n",
              "      <td>0.421628</td>\n",
              "    </tr>\n",
              "    <tr>\n",
              "      <th>1293</th>\n",
              "      <td>R_Zres5zjqgT36pEt</td>\n",
              "      <td>ROM</td>\n",
              "      <td>toilet</td>\n",
              "      <td>pee-pee taker</td>\n",
              "      <td>pee pee taker</td>\n",
              "      <td>1</td>\n",
              "      <td>0.368440</td>\n",
              "    </tr>\n",
              "    <tr>\n",
              "      <th>1294</th>\n",
              "      <td>R_Zres5zjqgT36pEt</td>\n",
              "      <td>ROM</td>\n",
              "      <td>wallet</td>\n",
              "      <td>money collector</td>\n",
              "      <td>money collector</td>\n",
              "      <td>1</td>\n",
              "      <td>0.441208</td>\n",
              "    </tr>\n",
              "    <tr>\n",
              "      <th>1295</th>\n",
              "      <td>853415</td>\n",
              "      <td>NES</td>\n",
              "      <td>fork</td>\n",
              "      <td>Food shovel</td>\n",
              "      <td>food shovel</td>\n",
              "      <td>1</td>\n",
              "      <td>0.356181</td>\n",
              "    </tr>\n",
              "  </tbody>\n",
              "</table>\n",
              "<p>1243 rows × 7 columns</p>\n",
              "</div>\n",
              "      <button class=\"colab-df-convert\" onclick=\"convertToInteractive('df-71547e1f-6b41-4c97-bc56-2159b5c85e59')\"\n",
              "              title=\"Convert this dataframe to an interactive table.\"\n",
              "              style=\"display:none;\">\n",
              "        \n",
              "  <svg xmlns=\"http://www.w3.org/2000/svg\" height=\"24px\"viewBox=\"0 0 24 24\"\n",
              "       width=\"24px\">\n",
              "    <path d=\"M0 0h24v24H0V0z\" fill=\"none\"/>\n",
              "    <path d=\"M18.56 5.44l.94 2.06.94-2.06 2.06-.94-2.06-.94-.94-2.06-.94 2.06-2.06.94zm-11 1L8.5 8.5l.94-2.06 2.06-.94-2.06-.94L8.5 2.5l-.94 2.06-2.06.94zm10 10l.94 2.06.94-2.06 2.06-.94-2.06-.94-.94-2.06-.94 2.06-2.06.94z\"/><path d=\"M17.41 7.96l-1.37-1.37c-.4-.4-.92-.59-1.43-.59-.52 0-1.04.2-1.43.59L10.3 9.45l-7.72 7.72c-.78.78-.78 2.05 0 2.83L4 21.41c.39.39.9.59 1.41.59.51 0 1.02-.2 1.41-.59l7.78-7.78 2.81-2.81c.8-.78.8-2.07 0-2.86zM5.41 20L4 18.59l7.72-7.72 1.47 1.35L5.41 20z\"/>\n",
              "  </svg>\n",
              "      </button>\n",
              "      \n",
              "  <style>\n",
              "    .colab-df-container {\n",
              "      display:flex;\n",
              "      flex-wrap:wrap;\n",
              "      gap: 12px;\n",
              "    }\n",
              "\n",
              "    .colab-df-convert {\n",
              "      background-color: #E8F0FE;\n",
              "      border: none;\n",
              "      border-radius: 50%;\n",
              "      cursor: pointer;\n",
              "      display: none;\n",
              "      fill: #1967D2;\n",
              "      height: 32px;\n",
              "      padding: 0 0 0 0;\n",
              "      width: 32px;\n",
              "    }\n",
              "\n",
              "    .colab-df-convert:hover {\n",
              "      background-color: #E2EBFA;\n",
              "      box-shadow: 0px 1px 2px rgba(60, 64, 67, 0.3), 0px 1px 3px 1px rgba(60, 64, 67, 0.15);\n",
              "      fill: #174EA6;\n",
              "    }\n",
              "\n",
              "    [theme=dark] .colab-df-convert {\n",
              "      background-color: #3B4455;\n",
              "      fill: #D2E3FC;\n",
              "    }\n",
              "\n",
              "    [theme=dark] .colab-df-convert:hover {\n",
              "      background-color: #434B5C;\n",
              "      box-shadow: 0px 1px 3px 1px rgba(0, 0, 0, 0.15);\n",
              "      filter: drop-shadow(0px 1px 2px rgba(0, 0, 0, 0.3));\n",
              "      fill: #FFFFFF;\n",
              "    }\n",
              "  </style>\n",
              "\n",
              "      <script>\n",
              "        const buttonEl =\n",
              "          document.querySelector('#df-71547e1f-6b41-4c97-bc56-2159b5c85e59 button.colab-df-convert');\n",
              "        buttonEl.style.display =\n",
              "          google.colab.kernel.accessAllowed ? 'block' : 'none';\n",
              "\n",
              "        async function convertToInteractive(key) {\n",
              "          const element = document.querySelector('#df-71547e1f-6b41-4c97-bc56-2159b5c85e59');\n",
              "          const dataTable =\n",
              "            await google.colab.kernel.invokeFunction('convertToInteractive',\n",
              "                                                     [key], {});\n",
              "          if (!dataTable) return;\n",
              "\n",
              "          const docLinkHtml = 'Like what you see? Visit the ' +\n",
              "            '<a target=\"_blank\" href=https://colab.research.google.com/notebooks/data_table.ipynb>data table notebook</a>'\n",
              "            + ' to learn more about interactive tables.';\n",
              "          element.innerHTML = '';\n",
              "          dataTable['output_type'] = 'display_data';\n",
              "          await google.colab.output.renderOutput(dataTable, element);\n",
              "          const docLink = document.createElement('div');\n",
              "          docLink.innerHTML = docLinkHtml;\n",
              "          element.appendChild(docLink);\n",
              "        }\n",
              "      </script>\n",
              "    </div>\n",
              "  </div>\n",
              "  "
            ],
            "text/plain": [
              "                subject group  ... on.task sim_to_item\n",
              "53                49998   NES  ...       1    0.630809\n",
              "54                49998   NES  ...       1    0.244441\n",
              "55                49998   NES  ...       1    0.617006\n",
              "56                49998   NES  ...       1    0.414731\n",
              "57                49998   NES  ...       1    0.623323\n",
              "...                 ...   ...  ...     ...         ...\n",
              "1291  R_Zres5zjqgT36pEt   ROM  ...       1    0.217890\n",
              "1292  R_Zres5zjqgT36pEt   ROM  ...       1    0.421628\n",
              "1293  R_Zres5zjqgT36pEt   ROM  ...       1    0.368440\n",
              "1294  R_Zres5zjqgT36pEt   ROM  ...       1    0.441208\n",
              "1295             853415   NES  ...       1    0.356181\n",
              "\n",
              "[1243 rows x 7 columns]"
            ]
          },
          "metadata": {},
          "execution_count": 32
        }
      ]
    },
    {
      "cell_type": "code",
      "source": [
        "dat.to_csv('/content/drive/MyDrive/creative_naming/creative_naming_raw_answers_withSIM.csv')"
      ],
      "metadata": {
        "id": "P2V8nKLghNuG"
      },
      "execution_count": 36,
      "outputs": []
    },
    {
      "cell_type": "code",
      "source": [
        "print(spacy.__version__)"
      ],
      "metadata": {
        "id": "dFQ-9IFti0Q0",
        "outputId": "a968e105-4a0f-46d6-e832-efd54949b241",
        "colab": {
          "base_uri": "https://localhost:8080/"
        }
      },
      "execution_count": 33,
      "outputs": [
        {
          "output_type": "stream",
          "name": "stdout",
          "text": [
            "3.0.7\n"
          ]
        }
      ]
    },
    {
      "cell_type": "code",
      "source": [
        "from platform import python_version\n",
        "print(python_version())"
      ],
      "metadata": {
        "id": "BBFihvWai755",
        "outputId": "067e9090-bf28-4a73-ba34-f63919c07f31",
        "colab": {
          "base_uri": "https://localhost:8080/"
        }
      },
      "execution_count": 34,
      "outputs": [
        {
          "output_type": "stream",
          "name": "stdout",
          "text": [
            "3.7.12\n"
          ]
        }
      ]
    }
  ]
}