{
  "nbformat": 4,
  "nbformat_minor": 0,
  "metadata": {
    "colab": {
      "name": "creative_names_cogsci.ipynb",
      "provenance": [],
      "authorship_tag": "ABX9TyPr31OagCSNVLUAIaUlapJn",
      "include_colab_link": true
    },
    "kernelspec": {
      "name": "python3",
      "display_name": "Python 3"
    },
    "language_info": {
      "name": "python"
    }
  },
  "cells": [
    {
      "cell_type": "markdown",
      "metadata": {
        "id": "view-in-github",
        "colab_type": "text"
      },
      "source": [
        "<a href=\"https://colab.research.google.com/github/scskalicky/creative_naming_lsa/blob/main/creative_names_cogsci.ipynb\" target=\"_parent\"><img src=\"https://colab.research.google.com/assets/colab-badge.svg\" alt=\"Open In Colab\"/></a>"
      ]
    },
    {
      "cell_type": "code",
      "source": [
        "from google.colab import drive\n",
        "drive.mount('/content/drive')"
      ],
      "metadata": {
        "colab": {
          "base_uri": "https://localhost:8080/"
        },
        "id": "QyuRZplwubPP",
        "outputId": "6e54a027-0653-4e1f-c43b-61b5b673e2fc"
      },
      "execution_count": 1,
      "outputs": [
        {
          "output_type": "stream",
          "name": "stdout",
          "text": [
            "Mounted at /content/drive\n"
          ]
        }
      ]
    },
    {
      "cell_type": "code",
      "source": [
        "# manually download the most up-to-date English model (lg)\n",
        "# \n",
        "# MUST RESTART RUNTIME AFTER DOING THIS.\n",
        "# will also update spacy to 3.x\n",
        "#!pip install https://github.com/explosion/spacy-models/releases/download/en_core_web_lg-3.2.0/en_core_web_lg-3.2.0.tar.gz"
      ],
      "metadata": {
        "id": "yL2vZw09g51N"
      },
      "execution_count": null,
      "outputs": []
    },
    {
      "cell_type": "code",
      "execution_count": 1,
      "metadata": {
        "id": "ZlJQKMf1uSHD"
      },
      "outputs": [],
      "source": [
        "import pandas as pd\n",
        "import spacy\n",
        "nlp = spacy.load('en_core_web_lg')"
      ]
    },
    {
      "cell_type": "code",
      "source": [
        "a = 'air ball'\n",
        "b = 'air toy'\n",
        "\n",
        "nlp(a).similarity(nlp(b))"
      ],
      "metadata": {
        "colab": {
          "base_uri": "https://localhost:8080/"
        },
        "id": "P2LbYpV_gRcs",
        "outputId": "1b326ce6-9d62-4cb3-a746-b0f001888fde"
      },
      "execution_count": 4,
      "outputs": [
        {
          "output_type": "execute_result",
          "data": {
            "text/plain": [
              "0.747491200736556"
            ]
          },
          "metadata": {},
          "execution_count": 4
        }
      ]
    },
    {
      "cell_type": "code",
      "source": [
        "dat = pd.read_csv('/content/drive/MyDrive/creative_naming/creative_naming_raw_answers.csv')"
      ],
      "metadata": {
        "id": "stox22j2uThp"
      },
      "execution_count": null,
      "outputs": []
    },
    {
      "cell_type": "code",
      "source": [
        "dat"
      ],
      "metadata": {
        "colab": {
          "base_uri": "https://localhost:8080/",
          "height": 424
        },
        "id": "0eWn0QLIvAZ1",
        "outputId": "923d7f31-09a3-4bbc-f496-40bc843c736f"
      },
      "execution_count": null,
      "outputs": [
        {
          "output_type": "execute_result",
          "data": {
            "text/html": [
              "\n",
              "  <div id=\"df-ef7c0df3-dc72-4775-9c0f-fdcf308f47bd\">\n",
              "    <div class=\"colab-df-container\">\n",
              "      <div>\n",
              "<style scoped>\n",
              "    .dataframe tbody tr th:only-of-type {\n",
              "        vertical-align: middle;\n",
              "    }\n",
              "\n",
              "    .dataframe tbody tr th {\n",
              "        vertical-align: top;\n",
              "    }\n",
              "\n",
              "    .dataframe thead th {\n",
              "        text-align: right;\n",
              "    }\n",
              "</style>\n",
              "<table border=\"1\" class=\"dataframe\">\n",
              "  <thead>\n",
              "    <tr style=\"text-align: right;\">\n",
              "      <th></th>\n",
              "      <th>subject</th>\n",
              "      <th>group</th>\n",
              "      <th>item</th>\n",
              "      <th>original_answer</th>\n",
              "      <th>cleaned_answer</th>\n",
              "      <th>on.task</th>\n",
              "    </tr>\n",
              "  </thead>\n",
              "  <tbody>\n",
              "    <tr>\n",
              "      <th>0</th>\n",
              "      <td>49998</td>\n",
              "      <td>NES</td>\n",
              "      <td>balloon</td>\n",
              "      <td>air ball /</td>\n",
              "      <td>air ball</td>\n",
              "      <td>1</td>\n",
              "    </tr>\n",
              "    <tr>\n",
              "      <th>1</th>\n",
              "      <td>49998</td>\n",
              "      <td>NES</td>\n",
              "      <td>box</td>\n",
              "      <td>Compressed paper container</td>\n",
              "      <td>compressed paper container</td>\n",
              "      <td>1</td>\n",
              "    </tr>\n",
              "    <tr>\n",
              "      <th>2</th>\n",
              "      <td>49998</td>\n",
              "      <td>NES</td>\n",
              "      <td>carrot</td>\n",
              "      <td>orange veggie</td>\n",
              "      <td>orange veggie</td>\n",
              "      <td>1</td>\n",
              "    </tr>\n",
              "    <tr>\n",
              "      <th>3</th>\n",
              "      <td>49998</td>\n",
              "      <td>NES</td>\n",
              "      <td>fork</td>\n",
              "      <td>eating tool</td>\n",
              "      <td>eating tool</td>\n",
              "      <td>1</td>\n",
              "    </tr>\n",
              "    <tr>\n",
              "      <th>4</th>\n",
              "      <td>49998</td>\n",
              "      <td>NES</td>\n",
              "      <td>shovel</td>\n",
              "      <td>digger</td>\n",
              "      <td>digger</td>\n",
              "      <td>1</td>\n",
              "    </tr>\n",
              "    <tr>\n",
              "      <th>...</th>\n",
              "      <td>...</td>\n",
              "      <td>...</td>\n",
              "      <td>...</td>\n",
              "      <td>...</td>\n",
              "      <td>...</td>\n",
              "      <td>...</td>\n",
              "    </tr>\n",
              "    <tr>\n",
              "      <th>1291</th>\n",
              "      <td>R_Zres5zjqgT36pEt</td>\n",
              "      <td>ROM</td>\n",
              "      <td>fork</td>\n",
              "      <td>comb for food</td>\n",
              "      <td>comb for food</td>\n",
              "      <td>1</td>\n",
              "    </tr>\n",
              "    <tr>\n",
              "      <th>1292</th>\n",
              "      <td>R_Zres5zjqgT36pEt</td>\n",
              "      <td>ROM</td>\n",
              "      <td>glasses</td>\n",
              "      <td>clarifier</td>\n",
              "      <td>clarifier</td>\n",
              "      <td>1</td>\n",
              "    </tr>\n",
              "    <tr>\n",
              "      <th>1293</th>\n",
              "      <td>R_Zres5zjqgT36pEt</td>\n",
              "      <td>ROM</td>\n",
              "      <td>shovel</td>\n",
              "      <td>plant remover</td>\n",
              "      <td>plant remover</td>\n",
              "      <td>1</td>\n",
              "    </tr>\n",
              "    <tr>\n",
              "      <th>1294</th>\n",
              "      <td>R_Zres5zjqgT36pEt</td>\n",
              "      <td>ROM</td>\n",
              "      <td>toilet</td>\n",
              "      <td>pee-pee taker</td>\n",
              "      <td>pee pee taker</td>\n",
              "      <td>1</td>\n",
              "    </tr>\n",
              "    <tr>\n",
              "      <th>1295</th>\n",
              "      <td>R_Zres5zjqgT36pEt</td>\n",
              "      <td>ROM</td>\n",
              "      <td>wallet</td>\n",
              "      <td>money collector</td>\n",
              "      <td>money collector</td>\n",
              "      <td>1</td>\n",
              "    </tr>\n",
              "  </tbody>\n",
              "</table>\n",
              "<p>1296 rows × 6 columns</p>\n",
              "</div>\n",
              "      <button class=\"colab-df-convert\" onclick=\"convertToInteractive('df-ef7c0df3-dc72-4775-9c0f-fdcf308f47bd')\"\n",
              "              title=\"Convert this dataframe to an interactive table.\"\n",
              "              style=\"display:none;\">\n",
              "        \n",
              "  <svg xmlns=\"http://www.w3.org/2000/svg\" height=\"24px\"viewBox=\"0 0 24 24\"\n",
              "       width=\"24px\">\n",
              "    <path d=\"M0 0h24v24H0V0z\" fill=\"none\"/>\n",
              "    <path d=\"M18.56 5.44l.94 2.06.94-2.06 2.06-.94-2.06-.94-.94-2.06-.94 2.06-2.06.94zm-11 1L8.5 8.5l.94-2.06 2.06-.94-2.06-.94L8.5 2.5l-.94 2.06-2.06.94zm10 10l.94 2.06.94-2.06 2.06-.94-2.06-.94-.94-2.06-.94 2.06-2.06.94z\"/><path d=\"M17.41 7.96l-1.37-1.37c-.4-.4-.92-.59-1.43-.59-.52 0-1.04.2-1.43.59L10.3 9.45l-7.72 7.72c-.78.78-.78 2.05 0 2.83L4 21.41c.39.39.9.59 1.41.59.51 0 1.02-.2 1.41-.59l7.78-7.78 2.81-2.81c.8-.78.8-2.07 0-2.86zM5.41 20L4 18.59l7.72-7.72 1.47 1.35L5.41 20z\"/>\n",
              "  </svg>\n",
              "      </button>\n",
              "      \n",
              "  <style>\n",
              "    .colab-df-container {\n",
              "      display:flex;\n",
              "      flex-wrap:wrap;\n",
              "      gap: 12px;\n",
              "    }\n",
              "\n",
              "    .colab-df-convert {\n",
              "      background-color: #E8F0FE;\n",
              "      border: none;\n",
              "      border-radius: 50%;\n",
              "      cursor: pointer;\n",
              "      display: none;\n",
              "      fill: #1967D2;\n",
              "      height: 32px;\n",
              "      padding: 0 0 0 0;\n",
              "      width: 32px;\n",
              "    }\n",
              "\n",
              "    .colab-df-convert:hover {\n",
              "      background-color: #E2EBFA;\n",
              "      box-shadow: 0px 1px 2px rgba(60, 64, 67, 0.3), 0px 1px 3px 1px rgba(60, 64, 67, 0.15);\n",
              "      fill: #174EA6;\n",
              "    }\n",
              "\n",
              "    [theme=dark] .colab-df-convert {\n",
              "      background-color: #3B4455;\n",
              "      fill: #D2E3FC;\n",
              "    }\n",
              "\n",
              "    [theme=dark] .colab-df-convert:hover {\n",
              "      background-color: #434B5C;\n",
              "      box-shadow: 0px 1px 3px 1px rgba(0, 0, 0, 0.15);\n",
              "      filter: drop-shadow(0px 1px 2px rgba(0, 0, 0, 0.3));\n",
              "      fill: #FFFFFF;\n",
              "    }\n",
              "  </style>\n",
              "\n",
              "      <script>\n",
              "        const buttonEl =\n",
              "          document.querySelector('#df-ef7c0df3-dc72-4775-9c0f-fdcf308f47bd button.colab-df-convert');\n",
              "        buttonEl.style.display =\n",
              "          google.colab.kernel.accessAllowed ? 'block' : 'none';\n",
              "\n",
              "        async function convertToInteractive(key) {\n",
              "          const element = document.querySelector('#df-ef7c0df3-dc72-4775-9c0f-fdcf308f47bd');\n",
              "          const dataTable =\n",
              "            await google.colab.kernel.invokeFunction('convertToInteractive',\n",
              "                                                     [key], {});\n",
              "          if (!dataTable) return;\n",
              "\n",
              "          const docLinkHtml = 'Like what you see? Visit the ' +\n",
              "            '<a target=\"_blank\" href=https://colab.research.google.com/notebooks/data_table.ipynb>data table notebook</a>'\n",
              "            + ' to learn more about interactive tables.';\n",
              "          element.innerHTML = '';\n",
              "          dataTable['output_type'] = 'display_data';\n",
              "          await google.colab.output.renderOutput(dataTable, element);\n",
              "          const docLink = document.createElement('div');\n",
              "          docLink.innerHTML = docLinkHtml;\n",
              "          element.appendChild(docLink);\n",
              "        }\n",
              "      </script>\n",
              "    </div>\n",
              "  </div>\n",
              "  "
            ],
            "text/plain": [
              "                subject group  ...              cleaned_answer on.task\n",
              "0                 49998   NES  ...                    air ball       1\n",
              "1                 49998   NES  ...  compressed paper container       1\n",
              "2                 49998   NES  ...               orange veggie       1\n",
              "3                 49998   NES  ...                 eating tool       1\n",
              "4                 49998   NES  ...                      digger       1\n",
              "...                 ...   ...  ...                         ...     ...\n",
              "1291  R_Zres5zjqgT36pEt   ROM  ...               comb for food       1\n",
              "1292  R_Zres5zjqgT36pEt   ROM  ...                   clarifier       1\n",
              "1293  R_Zres5zjqgT36pEt   ROM  ...               plant remover       1\n",
              "1294  R_Zres5zjqgT36pEt   ROM  ...               pee pee taker       1\n",
              "1295  R_Zres5zjqgT36pEt   ROM  ...             money collector       1\n",
              "\n",
              "[1296 rows x 6 columns]"
            ]
          },
          "metadata": {},
          "execution_count": 113
        }
      ]
    },
    {
      "cell_type": "markdown",
      "source": [
        "The goal of this notebook is to see whether or not we can use wordnet to determine the relative heirarchy of categories in the participants answers.\n",
        "\n",
        "\n",
        "What are the common linguistic properties of high frequency answers?\n",
        "\n",
        "- repeated answers\n",
        "- similar answers\n",
        "- unique answers\n",
        "\n",
        "What does this mean for creativity? \n",
        "\n",
        "\n",
        "So we need a way to group similar answers based on\n",
        "\n",
        "- the words used\n",
        "  - ideally we would want to categorize things\n",
        "- their semantic similarity to one another\n",
        "- their syntax\n",
        "- orthographic overlap? \n"
      ],
      "metadata": {
        "id": "Co1OAYHwwLDM"
      }
    },
    {
      "cell_type": "code",
      "source": [
        "from nltk.corpus import wordnet as wn\n",
        "from nltk.corpus import framenet as fn\n",
        "from operator import itemgetter"
      ],
      "metadata": {
        "id": "I5cPVLEIvvJu"
      },
      "execution_count": 23,
      "outputs": []
    },
    {
      "cell_type": "markdown",
      "source": [
        "## FrameNet\n",
        "\n",
        "- Each LU is linked to a Frame, and hence to the other words which evoke that Frame.\n",
        "\n",
        "Get all the frames for target object? Then see how the answers relate to those frames? Hrmm. "
      ],
      "metadata": {
        "id": "fcCojloMy175"
      }
    },
    {
      "cell_type": "code",
      "source": [
        "fn.frames_by_lemma(r'toilet')"
      ],
      "metadata": {
        "colab": {
          "base_uri": "https://localhost:8080/"
        },
        "id": "TfzGAvk6wrNl",
        "outputId": "0a849d65-5cb8-493d-d9be-9411f4695701"
      },
      "execution_count": 37,
      "outputs": [
        {
          "output_type": "execute_result",
          "data": {
            "text/plain": [
              "[<frame ID=78 name=Containers>]"
            ]
          },
          "metadata": {},
          "execution_count": 37
        }
      ]
    },
    {
      "cell_type": "code",
      "source": [
        "fn.frames_by_lemma(r'wallet')"
      ],
      "metadata": {
        "colab": {
          "base_uri": "https://localhost:8080/"
        },
        "id": "T_2rKVbC0E50",
        "outputId": "f82a4d7c-11eb-483a-ba64-37b19c3db599"
      },
      "execution_count": 40,
      "outputs": [
        {
          "output_type": "execute_result",
          "data": {
            "text/plain": [
              "[<frame ID=78 name=Containers>]"
            ]
          },
          "metadata": {},
          "execution_count": 40
        }
      ]
    },
    {
      "cell_type": "code",
      "source": [
        "fn.frames_by_lemma(r'glasses')"
      ],
      "metadata": {
        "colab": {
          "base_uri": "https://localhost:8080/"
        },
        "id": "eLuaJVfT0IKV",
        "outputId": "8bc20571-f1e0-48c5-ea7a-3c72520ad8e5"
      },
      "execution_count": 44,
      "outputs": [
        {
          "output_type": "execute_result",
          "data": {
            "text/plain": [
              "[<frame ID=158 name=Accoutrements>]"
            ]
          },
          "metadata": {},
          "execution_count": 44
        }
      ]
    },
    {
      "cell_type": "code",
      "source": [
        "fn.frames_by_lemma(r'orange')"
      ],
      "metadata": {
        "colab": {
          "base_uri": "https://localhost:8080/"
        },
        "id": "DC7VDYVE0OnP",
        "outputId": "4dae5822-009c-4f0d-da70-5890d303d38f"
      },
      "execution_count": 58,
      "outputs": [
        {
          "output_type": "execute_result",
          "data": {
            "text/plain": [
              "[]"
            ]
          },
          "metadata": {},
          "execution_count": 58
        }
      ]
    },
    {
      "cell_type": "code",
      "source": [
        "def find_frames(answer):\n",
        "  answer_tokens = nltk.word_tokenize(answer)\n",
        "  for token in answer_tokens:\n",
        "    print(token)\n",
        "    print(fn.frames_by_lemma(token))"
      ],
      "metadata": {
        "id": "FtC9bkkh1JAo"
      },
      "execution_count": 67,
      "outputs": []
    },
    {
      "cell_type": "code",
      "source": [
        "find_frames('orange veggie')"
      ],
      "metadata": {
        "colab": {
          "base_uri": "https://localhost:8080/"
        },
        "id": "PStKmryA1QpE",
        "outputId": "f90fbed9-c71f-491b-f5f0-45b1b711e598"
      },
      "execution_count": 68,
      "outputs": [
        {
          "output_type": "stream",
          "name": "stdout",
          "text": [
            "orange\n",
            "[<frame ID=423 name=Color>]\n",
            "veggie\n",
            "[]\n"
          ]
        }
      ]
    },
    {
      "cell_type": "code",
      "source": [
        "def find_wordnet(answer):\n",
        "  answer_tokens = nltk.word_tokenize(answer)\n",
        "  for token in answer_tokens:\n",
        "    print(token)\n",
        "    print(wn.synsets(token))"
      ],
      "metadata": {
        "id": "t3X_rp-b1jan"
      },
      "execution_count": 69,
      "outputs": []
    },
    {
      "cell_type": "markdown",
      "source": [
        "Answers like \"comb for food\" are creating metaphors or unique blends - attribution of one function to another.\n",
        "\n",
        "Answers like \"digger\" are nouning the verb fuction of the object\n",
        "\n",
        "Is the answer a subordinate or superordinate entity when compared to the given entity? Silly question since we provided items that will all be relatively specific? \n",
        "\n"
      ],
      "metadata": {
        "id": "WHEi9yNH2G4l"
      }
    },
    {
      "cell_type": "code",
      "source": [
        "find_wordnet('digger')"
      ],
      "metadata": {
        "colab": {
          "base_uri": "https://localhost:8080/"
        },
        "id": "lq5OEwsA1sD6",
        "outputId": "dd70e546-f2ce-447c-919b-de79db4fe6ef"
      },
      "execution_count": 73,
      "outputs": [
        {
          "output_type": "stream",
          "name": "stdout",
          "text": [
            "digger\n",
            "[Synset('digger.n.01'), Synset('power_shovel.n.01')]\n"
          ]
        }
      ]
    },
    {
      "cell_type": "code",
      "source": [
        "# set the prompt object as a wordnet variable\n",
        "balloon = wn.synset('balloon.n.02')\n",
        "box = wn.synset('box.n.01')\n",
        "carrot = wn.synset('carrot.n.01')\n",
        "couch = wn.synset('couch.n.01')\n",
        "fork = wn.synset('fork.n.01')\n",
        "sunglasses = wn.synset('sunglasses.n.01')\n",
        "shovel = wn.synset('shovel.n.01')\n",
        "wallet = wn.synset('wallet.n.01')\n",
        "toilet = wn.synset('toilet.n.01')\n",
        "\n",
        "prompt_objects = [balloon, box, carrot, couch, fork, sunglasses, shovel, wallet, toilet]"
      ],
      "metadata": {
        "id": "V4rOZsD623Ot"
      },
      "execution_count": 101,
      "outputs": []
    },
    {
      "cell_type": "code",
      "source": [
        "for po in prompt_objects:\n",
        "  # the lexical representation\n",
        "  print(po.lemma_names())\n",
        "  # the definition\n",
        "  print(po.definition())\n",
        "  # hypernyms\n",
        "  print(f'Hypernyms: {po.hypernyms()}')\n",
        "  print(f'Hyponyms: {po.hyponyms()}')\n",
        "  print('-----------')\n",
        "  # the other synsets using that same lexical representation\n",
        " # print(po.lemmas())"
      ],
      "metadata": {
        "colab": {
          "base_uri": "https://localhost:8080/"
        },
        "id": "5R0RNkggJYS0",
        "outputId": "0dde93bb-80e4-479c-f95f-193e4ac0612b"
      },
      "execution_count": 111,
      "outputs": [
        {
          "output_type": "stream",
          "name": "stdout",
          "text": [
            "['balloon']\n",
            "small thin inflatable rubber bag with narrow neck\n",
            "Hypernyms: [Synset('plaything.n.01')]\n",
            "Hyponyms: []\n",
            "-----------\n",
            "['box']\n",
            "a (usually rectangular) container; may have a lid\n",
            "Hypernyms: [Synset('container.n.01')]\n",
            "Hyponyms: [Synset('ballot_box.n.01'), Synset('bandbox.n.01'), Synset('carton.n.02'), Synset('casket.n.02'), Synset('cereal_box.n.01'), Synset('chest.n.02'), Synset('cigar_box.n.01'), Synset('coffin.n.01'), Synset('crate.n.01'), Synset('flat.n.02'), Synset('hod.n.01'), Synset('mailbox.n.01'), Synset('matchbox.n.01'), Synset('paintbox.n.01'), Synset('pencil_box.n.01'), Synset('playbox.n.01'), Synset('poor_box.n.01'), Synset('pyxis.n.03'), Synset('shadow_box.n.01'), Synset('shoebox.n.02'), Synset('snuffbox.n.01'), Synset('strongbox.n.01'), Synset('tinderbox.n.02'), Synset('tuck_box.n.01'), Synset('window_box.n.01')]\n",
            "-----------\n",
            "['carrot']\n",
            "deep orange edible root of the cultivated carrot plant\n",
            "Hypernyms: [Synset('root.n.01')]\n",
            "Hyponyms: []\n",
            "-----------\n",
            "['sofa', 'couch', 'lounge']\n",
            "an upholstered seat for more than one person\n",
            "Hypernyms: [Synset('seat.n.03')]\n",
            "Hyponyms: [Synset('convertible.n.03'), Synset('daybed.n.01'), Synset('divan.n.01'), Synset('love_seat.n.01'), Synset('settee.n.02'), Synset('squab.n.02')]\n",
            "-----------\n",
            "['fork']\n",
            "cutlery used for serving and eating food\n",
            "Hypernyms: [Synset('cutlery.n.02')]\n",
            "Hyponyms: [Synset('carving_fork.n.01'), Synset('salad_fork.n.01'), Synset('tablefork.n.01'), Synset('toasting_fork.n.01')]\n",
            "-----------\n",
            "['sunglasses', 'dark_glasses', 'shades']\n",
            "spectacles that are darkened or polarized to protect the eyes from the glare of the sun\n",
            "Hypernyms: [Synset('spectacles.n.01')]\n",
            "Hyponyms: []\n",
            "-----------\n",
            "['shovel']\n",
            "a hand tool for lifting loose material; consists of a curved container or scoop and a handle\n",
            "Hypernyms: [Synset('hand_tool.n.01')]\n",
            "Hyponyms: [Synset('hand_shovel.n.01'), Synset('posthole_digger.n.01'), Synset('scoop.n.05')]\n",
            "-----------\n",
            "['wallet', 'billfold', 'notecase', 'pocketbook']\n",
            "a pocket-size case for holding papers and paper money\n",
            "Hypernyms: [Synset('case.n.05')]\n",
            "Hyponyms: []\n",
            "-----------\n",
            "['toilet', 'lavatory', 'lav', 'can', 'john', 'privy', 'bathroom']\n",
            "a room or building equipped with one or more toilets\n",
            "Hypernyms: [Synset('room.n.01')]\n",
            "Hyponyms: [Synset('head.n.30'), Synset('public_toilet.n.01'), Synset('washroom.n.01'), Synset('water_closet.n.01')]\n",
            "-----------\n"
          ]
        }
      ]
    },
    {
      "cell_type": "code",
      "source": [
        "\n"
      ],
      "metadata": {
        "id": "CekxGXJpJdyj"
      },
      "execution_count": null,
      "outputs": []
    },
    {
      "cell_type": "code",
      "source": [
        "[token.tag_ for token in nlp('pee pee taker')]"
      ],
      "metadata": {
        "colab": {
          "base_uri": "https://localhost:8080/"
        },
        "id": "eu1U5QDHvyRJ",
        "outputId": "be47d8cf-d5f1-455b-bb6b-64efa1241c6d"
      },
      "execution_count": 94,
      "outputs": [
        {
          "output_type": "execute_result",
          "data": {
            "text/plain": [
              "['NNP', 'NNP', 'NN']"
            ]
          },
          "metadata": {},
          "execution_count": 94
        }
      ]
    }
  ]
}